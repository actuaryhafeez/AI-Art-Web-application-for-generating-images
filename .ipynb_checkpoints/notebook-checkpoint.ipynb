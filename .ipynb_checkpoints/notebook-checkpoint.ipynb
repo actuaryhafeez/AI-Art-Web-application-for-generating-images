{
 "cells": [
  {
   "cell_type": "markdown",
   "id": "edbfd2be",
   "metadata": {},
   "source": [
    "# Import Libraries"
   ]
  },
  {
   "cell_type": "code",
   "execution_count": 1,
   "id": "5c66ff5c",
   "metadata": {},
   "outputs": [
    {
     "ename": "ModuleNotFoundError",
     "evalue": "No module named 'openai'",
     "output_type": "error",
     "traceback": [
      "\u001b[1;31m---------------------------------------------------------------------------\u001b[0m",
      "\u001b[1;31mModuleNotFoundError\u001b[0m                       Traceback (most recent call last)",
      "\u001b[1;32m<ipython-input-1-8b5a08cfd822>\u001b[0m in \u001b[0;36m<module>\u001b[1;34m\u001b[0m\n\u001b[1;32m----> 1\u001b[1;33m \u001b[1;32mimport\u001b[0m \u001b[0mopenai\u001b[0m\u001b[1;33m\u001b[0m\u001b[1;33m\u001b[0m\u001b[0m\n\u001b[0m\u001b[0;32m      2\u001b[0m \u001b[1;32mimport\u001b[0m \u001b[0murllib\u001b[0m\u001b[1;33m.\u001b[0m\u001b[0mrequest\u001b[0m\u001b[1;33m\u001b[0m\u001b[1;33m\u001b[0m\u001b[0m\n\u001b[0;32m      3\u001b[0m \u001b[1;32mfrom\u001b[0m \u001b[0mPIL\u001b[0m \u001b[1;32mimport\u001b[0m \u001b[0mImage\u001b[0m\u001b[1;33m\u001b[0m\u001b[1;33m\u001b[0m\u001b[0m\n\u001b[0;32m      4\u001b[0m \u001b[1;32mimport\u001b[0m \u001b[0mrequests\u001b[0m\u001b[1;33m\u001b[0m\u001b[1;33m\u001b[0m\u001b[0m\n\u001b[0;32m      5\u001b[0m \u001b[1;32mfrom\u001b[0m \u001b[0mio\u001b[0m \u001b[1;32mimport\u001b[0m \u001b[0mBytesIO\u001b[0m\u001b[1;33m\u001b[0m\u001b[1;33m\u001b[0m\u001b[0m\n",
      "\u001b[1;31mModuleNotFoundError\u001b[0m: No module named 'openai'"
     ]
    }
   ],
   "source": [
    "import openai\n",
    "import urllib.request\n",
    "from PIL import Image\n",
    "import requests\n",
    "from io import BytesIO\n",
    "import matplotlib.pyplot as plt"
   ]
  },
  {
   "cell_type": "markdown",
   "id": "79bfddae",
   "metadata": {},
   "source": [
    "# Set OpenAI API Key"
   ]
  },
  {
   "cell_type": "code",
   "execution_count": null,
   "id": "f018233b",
   "metadata": {},
   "outputs": [],
   "source": [
    "openai.api_key = \"paste your api key\"\n"
   ]
  },
  {
   "cell_type": "markdown",
   "id": "2728a598",
   "metadata": {},
   "source": [
    "# Generate Image"
   ]
  },
  {
   "cell_type": "code",
   "execution_count": null,
   "id": "c001a860",
   "metadata": {},
   "outputs": [],
   "source": [
    "img_response = openai.Image.create(\n",
    "    prompt = 'an astronaut lounging in a tropical resort in space',\n",
    "    n=1,\n",
    "    size=\"512x512\")    # 256x256, 512x512, 1024x1024\n"
   ]
  },
  {
   "cell_type": "markdown",
   "id": "efb298c3",
   "metadata": {},
   "source": [
    "# Get image URL from API response"
   ]
  },
  {
   "cell_type": "code",
   "execution_count": null,
   "id": "fc2f4687",
   "metadata": {},
   "outputs": [],
   "source": [
    "img_url = img_response['data'][0]['url']"
   ]
  },
  {
   "cell_type": "markdown",
   "id": "c4ba3c29",
   "metadata": {},
   "source": [
    "# Retrieve image from URL using requests library"
   ]
  },
  {
   "cell_type": "code",
   "execution_count": null,
   "id": "0ccf084f",
   "metadata": {},
   "outputs": [],
   "source": [
    "response = requests.get(img_url)\n",
    "img = Image.open(BytesIO(response.content))"
   ]
  },
  {
   "cell_type": "markdown",
   "id": "123566e3",
   "metadata": {},
   "source": [
    "# Display image using matplotlib"
   ]
  },
  {
   "cell_type": "code",
   "execution_count": null,
   "id": "545243a7",
   "metadata": {},
   "outputs": [],
   "source": [
    "plt.imshow(img)\n",
    "plt.axis('off')\n",
    "plt.show()"
   ]
  }
 ],
 "metadata": {
  "kernelspec": {
   "display_name": "Python 3 (ipykernel)",
   "language": "python",
   "name": "python3"
  },
  "language_info": {
   "codemirror_mode": {
    "name": "ipython",
    "version": 3
   },
   "file_extension": ".py",
   "mimetype": "text/x-python",
   "name": "python",
   "nbconvert_exporter": "python",
   "pygments_lexer": "ipython3",
   "version": "3.6.8"
  }
 },
 "nbformat": 4,
 "nbformat_minor": 5
}
